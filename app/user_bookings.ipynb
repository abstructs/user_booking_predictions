{
 "cells": [
  {
   "cell_type": "code",
   "execution_count": 142,
   "metadata": {},
   "outputs": [],
   "source": [
    "import tensorflow as tf\n",
    "import numpy as np\n",
    "import matplotlib.pyplot as plt\n",
    "import pandas as pd\n",
    "import sklearn\n",
    "from functools import reduce\n",
    "import xgboost as xgb"
   ]
  },
  {
   "cell_type": "code",
   "execution_count": 301,
   "metadata": {},
   "outputs": [],
   "source": [
    "COUNTRIES_FILE_PATH = \"data/countries.csv\"\n",
    "SESSIONS_FILE_PATH = \"data/sessions.csv\"\n",
    "TRAIN_USERS_PATH = \"data/train_users_2.csv\"\n",
    "AGE_BUCKET_PATH = \"data/age_gender_bkts.csv\"\n",
    "SESSION_PATH = \"data/sessions.csv\"\n",
    "TEST_USERS_PATH = \"data/test_users.csv\""
   ]
  },
  {
   "cell_type": "markdown",
   "metadata": {},
   "source": [
    "### Loading the data"
   ]
  },
  {
   "cell_type": "code",
   "execution_count": 345,
   "metadata": {},
   "outputs": [
    {
     "name": "stdout",
     "output_type": "stream",
     "text": [
      "Index(['id', 'gender', 'age', 'language', 'affiliate_provider', 'signup_app',\n",
      "       'first_device_type', 'first_browser'],\n",
      "      dtype='object')\n",
      "Index(['country_destination', 'lat_destination', 'lng_destination',\n",
      "       'distance_km', 'destination_km2', 'destination_language ',\n",
      "       'language_levenshtein_distance'],\n",
      "      dtype='object')\n",
      "Index(['age_bucket', 'country_destination', 'gender',\n",
      "       'population_in_thousands', 'year'],\n",
      "      dtype='object')\n"
     ]
    }
   ],
   "source": [
    "train_users = pd.read_csv(TRAIN_USERS_PATH)\n",
    "test_users = pd.read_csv(TEST_USERS_PATH)\n",
    "countries = pd.read_csv(COUNTRIES_FILE_PATH)\n",
    "age_buckets = pd.read_csv(AGE_BUCKET_PATH)\n",
    "sessions = pd.read_csv(SESSION_PATH)\n",
    "\n",
    "unique_session_ids = sessions['user_id'].unique()\n",
    "\n",
    "# Group session data\n",
    "sessions = sessions.groupby('user_id')\n",
    "\n",
    "unique_actions = sessions['action_detail'].nunique()\n",
    "total_elapsed = sessions['secs_elapsed'].sum()\n",
    "# convert to series for faster indexing\n",
    "total_elapsed = pd.Series(data=total_elapsed.values.flatten(), index=total_elapsed.index)\n",
    "\n",
    "# Drop columns we don't need\n",
    "train_users = train_users.drop(['date_account_created', 'timestamp_first_active', 'date_first_booking',\n",
    "                 'signup_flow', 'signup_method', 'affiliate_channel',\n",
    "                 'first_affiliate_tracked'], axis=1)\n",
    "\n",
    "# Do the same for our test\n",
    "test_users = test_users.drop(['date_account_created', 'timestamp_first_active', 'date_first_booking',\n",
    "                 'signup_flow', 'signup_method', 'affiliate_channel',\n",
    "                 'first_affiliate_tracked'], axis=1)\n",
    "\n",
    "features = train_users.columns[0:-1]\n",
    "\n",
    "# Let's see what our columns are\n",
    "\n",
    "print(features)\n",
    "print(countries.columns)\n",
    "print(age_buckets.columns)"
   ]
  },
  {
   "cell_type": "markdown",
   "metadata": {},
   "source": [
    "### Filtering data we aren't going to use"
   ]
  },
  {
   "cell_type": "code",
   "execution_count": 346,
   "metadata": {},
   "outputs": [],
   "source": [
    "# only get the users where we have their session information\n",
    "user_ids = train_users['id']\n",
    "train_users = train_users[user_ids.isin(unique_session_ids)]"
   ]
  },
  {
   "cell_type": "markdown",
   "metadata": {},
   "source": [
    "### Loading Session Data For Users"
   ]
  },
  {
   "cell_type": "code",
   "execution_count": 311,
   "metadata": {},
   "outputs": [],
   "source": [
    "def get_session_params(users):\n",
    "    user_matrix = users.as_matrix()\n",
    "    user_id_index = users.columns.get_loc('id')\n",
    "    \n",
    "    session_params = np.zeros((users.shape[0], 2))\n",
    "    user_ids = []\n",
    "    \n",
    "    for i, user in enumerate(user_matrix):\n",
    "        user_ids.append(user[user_id_index])\n",
    "        actions = unique_actions.get(user[user_id_index])\n",
    "        total = total_elapsed.get(user[user_id_index])\n",
    "        session_params[i] = [actions, total]\n",
    "    \n",
    "    return pd.DataFrame(session_params, index=user_ids, columns=['unique_action_count', 'total_secs_elapsed'])"
   ]
  },
  {
   "cell_type": "markdown",
   "metadata": {},
   "source": [
    "### Loading target country statistics and age bucket data"
   ]
  },
  {
   "cell_type": "code",
   "execution_count": 324,
   "metadata": {},
   "outputs": [
    {
     "data": {
      "text/html": [
       "<div>\n",
       "<style scoped>\n",
       "    .dataframe tbody tr th:only-of-type {\n",
       "        vertical-align: middle;\n",
       "    }\n",
       "\n",
       "    .dataframe tbody tr th {\n",
       "        vertical-align: top;\n",
       "    }\n",
       "\n",
       "    .dataframe thead th {\n",
       "        text-align: right;\n",
       "    }\n",
       "</style>\n",
       "<table border=\"1\" class=\"dataframe\">\n",
       "  <thead>\n",
       "    <tr style=\"text-align: right;\">\n",
       "      <th></th>\n",
       "      <th>country_destination</th>\n",
       "      <th>destination_km2</th>\n",
       "      <th>destination_language</th>\n",
       "      <th>distance_km</th>\n",
       "      <th>language_levenshtein_distance</th>\n",
       "      <th>lat_destination</th>\n",
       "      <th>lng_destination</th>\n",
       "    </tr>\n",
       "  </thead>\n",
       "  <tbody>\n",
       "    <tr>\n",
       "      <th>d1mm9tcy42</th>\n",
       "      <td>0</td>\n",
       "      <td>0.0</td>\n",
       "      <td>0</td>\n",
       "      <td>0.0</td>\n",
       "      <td>0.0</td>\n",
       "      <td>0.000000</td>\n",
       "      <td>0.00000</td>\n",
       "    </tr>\n",
       "    <tr>\n",
       "      <th>xwxei6hdk4</th>\n",
       "      <td>US</td>\n",
       "      <td>9826675.0</td>\n",
       "      <td>eng</td>\n",
       "      <td>0.0</td>\n",
       "      <td>0.0</td>\n",
       "      <td>36.966427</td>\n",
       "      <td>-95.84403</td>\n",
       "    </tr>\n",
       "    <tr>\n",
       "      <th>ro2stddszp</th>\n",
       "      <td>0</td>\n",
       "      <td>0.0</td>\n",
       "      <td>0</td>\n",
       "      <td>0.0</td>\n",
       "      <td>0.0</td>\n",
       "      <td>0.000000</td>\n",
       "      <td>0.00000</td>\n",
       "    </tr>\n",
       "    <tr>\n",
       "      <th>qtw88d9pbl</th>\n",
       "      <td>0</td>\n",
       "      <td>0.0</td>\n",
       "      <td>0</td>\n",
       "      <td>0.0</td>\n",
       "      <td>0.0</td>\n",
       "      <td>0.000000</td>\n",
       "      <td>0.00000</td>\n",
       "    </tr>\n",
       "    <tr>\n",
       "      <th>awiurksqr3</th>\n",
       "      <td>US</td>\n",
       "      <td>9826675.0</td>\n",
       "      <td>eng</td>\n",
       "      <td>0.0</td>\n",
       "      <td>0.0</td>\n",
       "      <td>36.966427</td>\n",
       "      <td>-95.84403</td>\n",
       "    </tr>\n",
       "  </tbody>\n",
       "</table>\n",
       "</div>"
      ],
      "text/plain": [
       "           country_destination  destination_km2 destination_language   \\\n",
       "d1mm9tcy42                   0              0.0                     0   \n",
       "xwxei6hdk4                  US        9826675.0                   eng   \n",
       "ro2stddszp                   0              0.0                     0   \n",
       "qtw88d9pbl                   0              0.0                     0   \n",
       "awiurksqr3                  US        9826675.0                   eng   \n",
       "\n",
       "            distance_km  language_levenshtein_distance  lat_destination  \\\n",
       "d1mm9tcy42          0.0                            0.0         0.000000   \n",
       "xwxei6hdk4          0.0                            0.0        36.966427   \n",
       "ro2stddszp          0.0                            0.0         0.000000   \n",
       "qtw88d9pbl          0.0                            0.0         0.000000   \n",
       "awiurksqr3          0.0                            0.0        36.966427   \n",
       "\n",
       "            lng_destination  \n",
       "d1mm9tcy42          0.00000  \n",
       "xwxei6hdk4        -95.84403  \n",
       "ro2stddszp          0.00000  \n",
       "qtw88d9pbl          0.00000  \n",
       "awiurksqr3        -95.84403  "
      ]
     },
     "execution_count": 324,
     "metadata": {},
     "output_type": "execute_result"
    }
   ],
   "source": [
    "def get_country_params(users):\n",
    "    destinations = countries['country_destination']\n",
    "    country_params = []\n",
    "    user_id_index = users.columns.get_loc('id')\n",
    "    country_index = users.columns.get_loc('country_destination')\n",
    "    user_ids = []\n",
    "    \n",
    "    for user in users.as_matrix():\n",
    "        country = user[country_index]\n",
    "        user_id = user[user_id_index]\n",
    "        user_ids.append(user_id)\n",
    "        params = countries[country == destinations]\n",
    "        cols = params.columns\n",
    "        vals = params.values\n",
    "        if len(vals) is 0:\n",
    "            vals = np.zeros((1, len(cols)), dtype=object)\n",
    "            \n",
    "        zipped = zip(cols.tolist(), vals[0].tolist())\n",
    "        country_params.append(dict(zipped))\n",
    "    \n",
    "    country_params = pd.DataFrame(data=country_params, index=user_ids)\n",
    "        \n",
    "    return country_params\n",
    "\n",
    "get_country_params(train_users[0:5])"
   ]
  },
  {
   "cell_type": "code",
   "execution_count": 313,
   "metadata": {},
   "outputs": [],
   "source": [
    "def get_age_bucket_params(users):\n",
    "    bucket_params = np.zeros((users.shape[0], 1))\n",
    "\n",
    "    age_index = users.columns.get_loc('age')\n",
    "    gender_index = users.columns.get_loc('gender')\n",
    "    user_id_index = users.columns.get_loc('id')\n",
    "    user_ids = []\n",
    "\n",
    "    def _str_age_to_tuple(age_str):\n",
    "        age_range = str.split(age_str.strip(\"+\"), \"-\")\n",
    "        if len(age_range) == 1:\n",
    "            return (int(age_range[0]),)\n",
    "        return (int(age_range[0]), int(age_range[1]))\n",
    "    \n",
    "    def _in_age_range(age_range, age):\n",
    "        if len(age_range) is 1:\n",
    "            return age >= age_range[0]\n",
    "        \n",
    "        return age > age_range[0] and age < age_range[1]\n",
    "    \n",
    "    def _index_for_age(age):\n",
    "        return list(map(lambda age_range: _in_age_range(age_range, age), bucket))\n",
    "    \n",
    "    def _try_convert(num):\n",
    "        try:\n",
    "            return int(num)\n",
    "        except ValueError:\n",
    "            return 0\n",
    "        \n",
    "    bucket_matrix = age_buckets.as_matrix()\n",
    "    \n",
    "    for i,user in enumerate(users.as_matrix()):\n",
    "        user_ids.append(user[user_id_index])\n",
    "        user_destination = user[-1]\n",
    "        user_gender = user[gender_index].lower()\n",
    "        user_age = _try_convert(user[age_index])\n",
    "        \n",
    "        params_for_country = list(filter(lambda row: row[1] == user_destination, bucket_matrix))\n",
    "\n",
    "        bucket_for_gender = list(filter(lambda row: _in_age_range(_str_age_to_tuple(row[0]), user_age), params_for_country))\n",
    "\n",
    "        param = list(filter(lambda row: row[2] == user_gender, bucket_for_gender))\n",
    "        \n",
    "        if len(param) is 0:\n",
    "            continue\n",
    "        \n",
    "        bucket_params[i] = param[0][-2]\n",
    "        \n",
    "    return pd.DataFrame(bucket_params, index=user_ids, columns=[age_buckets.columns[-2]])"
   ]
  },
  {
   "cell_type": "markdown",
   "metadata": {},
   "source": [
    "### Getting insights on the data"
   ]
  },
  {
   "cell_type": "code",
   "execution_count": 314,
   "metadata": {},
   "outputs": [
    {
     "name": "stdout",
     "output_type": "stream",
     "text": [
      "Description for: id\n",
      "count          73815\n",
      "unique         73815\n",
      "top       roipr4mghn\n",
      "freq               1\n",
      "Name: id, dtype: object\n",
      "\n",
      "\n",
      "\n",
      "Description for: gender\n",
      "count         73815\n",
      "unique            4\n",
      "top       -unknown-\n",
      "freq          37788\n",
      "Name: gender, dtype: object\n",
      "\n",
      "\n",
      "\n",
      "Description for: age\n",
      "count    41567.000000\n",
      "mean        42.414993\n",
      "std        111.201954\n",
      "min          1.000000\n",
      "25%         27.000000\n",
      "50%         32.000000\n",
      "75%         41.000000\n",
      "max       2014.000000\n",
      "Name: age, dtype: float64\n",
      "\n",
      "\n",
      "\n",
      "Description for: language\n",
      "count     73815\n",
      "unique       24\n",
      "top          en\n",
      "freq      71100\n",
      "Name: language, dtype: object\n",
      "\n",
      "\n",
      "\n",
      "Description for: affiliate_provider\n",
      "count      73815\n",
      "unique        17\n",
      "top       direct\n",
      "freq       46814\n",
      "Name: affiliate_provider, dtype: object\n",
      "\n",
      "\n",
      "\n",
      "Description for: signup_app\n",
      "count     73815\n",
      "unique        4\n",
      "top         Web\n",
      "freq      57016\n",
      "Name: signup_app, dtype: object\n",
      "\n",
      "\n",
      "\n",
      "Description for: first_device_type\n",
      "count           73815\n",
      "unique              9\n",
      "top       Mac Desktop\n",
      "freq            28029\n",
      "Name: first_device_type, dtype: object\n",
      "\n",
      "\n",
      "\n",
      "Description for: first_browser\n",
      "count      73815\n",
      "unique        35\n",
      "top       Chrome\n",
      "freq       22662\n",
      "Name: first_browser, dtype: object\n",
      "\n",
      "\n",
      "\n"
     ]
    }
   ],
   "source": [
    "for feature in features:\n",
    "    print(\"Description for: \" + feature)\n",
    "    print(train_users[feature].describe())\n",
    "    print(\"\\n\\n\")"
   ]
  },
  {
   "cell_type": "markdown",
   "metadata": {},
   "source": [
    "### Visualizing the data"
   ]
  },
  {
   "cell_type": "code",
   "execution_count": 315,
   "metadata": {},
   "outputs": [
    {
     "data": {
      "image/png": "[encoded data removed]",
      "text/plain": [
       "<matplotlib.figure.Figure at 0x129617940>"
      ]
     },
     "metadata": {},
     "output_type": "display_data"
    }
   ],
   "source": [
    "def plot_user_range(users):\n",
    "    plt.plot(users['country_destination'], users['age'], 'ro', markersize=.5)\n",
    "    plt.ylabel('Age')\n",
    "    plt.xlabel('Destination')\n",
    "    \n",
    "plot_user_range(train_users)"
   ]
  },
  {
   "cell_type": "code",
   "execution_count": 316,
   "metadata": {},
   "outputs": [
    {
     "data": {
      "image/png": "[encoded data removed]",
      "text/plain": [
       "<matplotlib.figure.Figure at 0x120b02470>"
      ]
     },
     "metadata": {},
     "output_type": "display_data"
    }
   ],
   "source": [
    "def plot_destination_dist(users):\n",
    "    value_counts = train_users['country_destination'].value_counts()\n",
    "    width = 0.7\n",
    "    indicies = value_counts.axes[0]\n",
    "    country_counts = value_counts.values\n",
    "\n",
    "#     ax.set_yscale('log')\n",
    "    plt.bar(indicies, country_counts, width)\n",
    "#     plt.yscale('log')\n",
    "    plt.ylabel('Frequency')\n",
    "    plt.xlabel('Language')\n",
    "\n",
    "plot_destination_dist(train_users)"
   ]
  },
  {
   "cell_type": "markdown",
   "metadata": {},
   "source": [
    "### Insights\n",
    "\n",
    "\n",
    "The data clearly shows there's some skewed data in the age column that may effect our results."
   ]
  },
  {
   "cell_type": "code",
   "execution_count": 317,
   "metadata": {},
   "outputs": [
    {
     "data": {
      "text/plain": [
       "Text(0.5,0,'Language')"
      ]
     },
     "execution_count": 317,
     "metadata": {},
     "output_type": "execute_result"
    },
    {
     "data": {
      "image/png": "[encoded data removed]",
      "text/plain": [
       "<matplotlib.figure.Figure at 0x11f2513c8>"
      ]
     },
     "metadata": {},
     "output_type": "display_data"
    }
   ],
   "source": [
    "value_counts = train_users['language'].value_counts()\n",
    "width = 0.7\n",
    "indicies = value_counts.axes[0]\n",
    "country_counts = value_counts.values\n",
    "\n",
    "# plt.set_yscale('log')\n",
    "plt.bar(indicies, country_counts, width)\n",
    "plt.yscale('log')\n",
    "plt.ylabel('Frequency')\n",
    "plt.xlabel('Language')"
   ]
  },
  {
   "cell_type": "markdown",
   "metadata": {},
   "source": [
    "### Cleaning Age"
   ]
  },
  {
   "cell_type": "code",
   "execution_count": 318,
   "metadata": {},
   "outputs": [],
   "source": [
    "train_users = train_users[(train_users['age'] > 16) & (train_users['age'] <= 95)]"
   ]
  },
  {
   "cell_type": "markdown",
   "metadata": {},
   "source": [
    "### Plot After:"
   ]
  },
  {
   "cell_type": "code",
   "execution_count": 319,
   "metadata": {},
   "outputs": [
    {
     "data": {
      "image/png": "[encoded data removed]",
      "text/plain": [
       "<matplotlib.figure.Figure at 0x1214a1470>"
      ]
     },
     "metadata": {},
     "output_type": "display_data"
    }
   ],
   "source": [
    "plot_user_range(train_users)"
   ]
  },
  {
   "cell_type": "markdown",
   "metadata": {},
   "source": [
    "### Putting the data together"
   ]
  },
  {
   "cell_type": "code",
   "execution_count": 347,
   "metadata": {},
   "outputs": [],
   "source": [
    "train_bucket_params = get_age_bucket_params(train_users)\n",
    "test_bucket_params = get_age_bucket_params(test_users)"
   ]
  },
  {
   "cell_type": "code",
   "execution_count": 348,
   "metadata": {},
   "outputs": [],
   "source": [
    "# train_country_params = get_country_params(train_users)\n",
    "# train_country_params = train_country_params.drop('country_destination', axis=1)\n",
    "\n",
    "# test_country_params = get_country_params(test_users)"
   ]
  },
  {
   "cell_type": "code",
   "execution_count": 349,
   "metadata": {},
   "outputs": [],
   "source": [
    "train_session_params = get_session_params(train_users)\n",
    "test_session_params = get_session_params(test_users)"
   ]
  },
  {
   "cell_type": "code",
   "execution_count": 350,
   "metadata": {},
   "outputs": [],
   "source": [
    "# params = train_users.append(country_params).append(bucket_params)\n",
    "# .append(session_params)\n",
    "train_users.set_index('id', inplace=True)\n",
    "test_users.set_index('id', inplace=True)"
   ]
  },
  {
   "cell_type": "code",
   "execution_count": 351,
   "metadata": {},
   "outputs": [],
   "source": [
    "# merge all of our params using an inner join on the index\n",
    "train_dfs = [train_users, train_bucket_params, train_session_params]\n",
    "test_dfs = [test_users, test_bucket_params, test_session_params]\n",
    "\n",
    "train_params = reduce(lambda left, right: pd.merge(left, right, left_index=True, right_index=True), train_dfs)\n",
    "\n",
    "test_params = reduce(lambda left, right: pd.merge(left, right, left_index=True, right_index=True), test_dfs)"
   ]
  },
  {
   "cell_type": "code",
   "execution_count": 354,
   "metadata": {},
   "outputs": [
    {
     "name": "stdout",
     "output_type": "stream",
     "text": [
      "Index(['gender', 'age', 'language', 'affiliate_provider', 'signup_app',\n",
      "       'first_device_type', 'first_browser', 'country_destination',\n",
      "       'population_in_thousands', 'unique_action_count', 'total_secs_elapsed'],\n",
      "      dtype='object')\n",
      "Index(['gender', 'age', 'language', 'affiliate_provider', 'signup_app',\n",
      "       'first_device_type', 'first_browser', 'population_in_thousands',\n",
      "       'unique_action_count', 'total_secs_elapsed'],\n",
      "      dtype='object')\n"
     ]
    }
   ],
   "source": [
    "print(train_params.columns)\n",
    "print(test_params.columns)\n"
   ]
  },
  {
   "cell_type": "code",
   "execution_count": 377,
   "metadata": {},
   "outputs": [
    {
     "name": "stdout",
     "output_type": "stream",
     "text": [
      "103\n",
      "103\n"
     ]
    }
   ],
   "source": [
    "destinations = train_params['country_destination']\n",
    "\n",
    "categorical = pd.Categorical(destinations)\n",
    "\n",
    "categories = categorical.categories\n",
    "\n",
    "category_codes = categorical.codes\n",
    "\n",
    "y_train = category_codes\n",
    "# y_test = category_codes[32647:]\n",
    "\n",
    "category_count = len(categories)\n",
    "\n",
    "combined_test_and_train = pd.get_dummies(pd.concat([train_params.drop('country_destination', axis=1), test_params]))\n",
    "\n",
    "x_train_params = combined_test_and_train[:len(train_params)]\n",
    "x_test_params = combined_test_and_train[len(test_params):]\n",
    "\n",
    "# print(len(x_train_params.columns))\n",
    "# print(len(x_test_params.columns))\n",
    "\n",
    "# print(x_test_params)\n",
    "\n",
    "# x_train_params = pd.get_dummies()\n",
    "\n",
    "# x_test_params = pd.get_dummies(test_params)"
   ]
  },
  {
   "cell_type": "code",
   "execution_count": null,
   "metadata": {},
   "outputs": [],
   "source": []
  },
  {
   "cell_type": "code",
   "execution_count": 378,
   "metadata": {},
   "outputs": [],
   "source": [
    "xg_train = xgb.DMatrix(x_train_params, label=y_train)\n",
    "xg_test = xgb.DMatrix(x_test_params)"
   ]
  },
  {
   "cell_type": "code",
   "execution_count": 379,
   "metadata": {},
   "outputs": [
    {
     "name": "stdout",
     "output_type": "stream",
     "text": [
      "[0]\ttrain-merror:0.305995\n",
      "[1]\ttrain-merror:0.287272\n",
      "[2]\ttrain-merror:0.287326\n",
      "[3]\ttrain-merror:0.287286\n",
      "[4]\ttrain-merror:0.287259\n",
      "[5]\ttrain-merror:0.287326\n",
      "[6]\ttrain-merror:0.28734\n",
      "[7]\ttrain-merror:0.287286\n",
      "[8]\ttrain-merror:0.287367\n",
      "[9]\ttrain-merror:0.287381\n"
     ]
    }
   ],
   "source": [
    "# setup parameters for xgboost\n",
    "param = {}\n",
    "\n",
    "param['booster'] = 'gblinear'\n",
    "\n",
    "param['silent'] = 1\n",
    "\n",
    "param['nthread'] = 4\n",
    "\n",
    "# learning rate\n",
    "param['eta'] = 0.3\n",
    "\n",
    "# depth \n",
    "param['max_depth'] = 2\n",
    "\n",
    "# use softmax multi-class classification\n",
    "\n",
    "param['objective'] = 'multi:softmax'\n",
    "\n",
    "param['num_class'] = category_count\n",
    "\n",
    "watchlist = [(xg_train, 'train')]\n",
    "\n",
    "num_round = 10\n",
    "\n",
    "bst = xgb.train(param, xg_train, num_round, watchlist)"
   ]
  },
  {
   "cell_type": "code",
   "execution_count": 387,
   "metadata": {},
   "outputs": [],
   "source": [
    "train_pred = bst.predict(xg_train)\n",
    "test_pred = bst.predict(xg_test, output_margin=True)"
   ]
  },
  {
   "cell_type": "code",
   "execution_count": 389,
   "metadata": {},
   "outputs": [
    {
     "name": "stdout",
     "output_type": "stream",
     "text": [
      "Train error: 0.7126193863035968\n"
     ]
    }
   ],
   "source": [
    "print(\"Train error: \" + str(np.count_nonzero(train_pred == y_train) / len(y_train)))"
   ]
  },
  {
   "cell_type": "code",
   "execution_count": 390,
   "metadata": {},
   "outputs": [],
   "source": [
    "def get_top_three(predictions):\n",
    "    predictions = np.array(predictions, copy=True)\n",
    "    \"\"\"\n",
    "    for each prediction record the index of the top three in an array\n",
    "    \"\"\"\n",
    "    indexed_predictions = []\n",
    "    \n",
    "    for prob_vec in predictions:\n",
    "        maximum = float(\"-inf\")\n",
    "        maximum_index = -1\n",
    "        top_three = []\n",
    "        \n",
    "        while len(top_three) < 3:\n",
    "            # go through each probability and record maximum number and the index of that number\n",
    "            for i, prob in enumerate(prob_vec):\n",
    "                if prob > maximum:\n",
    "                    maximum = prob\n",
    "                    maximum_index = i\n",
    "            # add that maximum to our array, reset the index and set the index in\n",
    "            # the array to a small value\n",
    "            # NOTE: we don't remove it because that would mess up the indexing\n",
    "\n",
    "            prob_vec[maximum_index] = float(\"-inf\")\n",
    "            top_three.append(maximum_index)\n",
    "            maximum = float(\"-inf\")\n",
    "            \n",
    "        indexed_predictions.append(top_three)\n",
    "    \n",
    "    labeled_predictions = []\n",
    "    \n",
    "    for top_three_preds in indexed_predictions:\n",
    "        preds = []\n",
    "        for index in top_three_preds:\n",
    "            preds.append(categories[index])\n",
    "        labeled_predictions.append(preds)\n",
    "        \n",
    "\n",
    "    \n",
    "    return labeled_predictions"
   ]
  },
  {
   "cell_type": "code",
   "execution_count": 395,
   "metadata": {},
   "outputs": [],
   "source": [
    "predictions = get_top_three(test_pred)"
   ]
  },
  {
   "cell_type": "code",
   "execution_count": 435,
   "metadata": {},
   "outputs": [],
   "source": [
    "zipped_preds = list(zip(list(test_users.index), predictions))\n",
    "\n",
    "csv = []\n",
    "\n",
    "for id, preds in zipped_preds:\n",
    "    for pred in preds:\n",
    "        csv.append([id, pred])\n"
   ]
  },
  {
   "cell_type": "code",
   "execution_count": 446,
   "metadata": {},
   "outputs": [],
   "source": [
    "# save\n",
    "# np.array(csv, dtype=str)\n",
    "\n",
    "csv_df = pd.DataFrame(np.array(csv), columns=[\"id\",\"country\"])\n",
    "csv_df = csv_df.set_index('id')\n",
    "csv_df.to_csv(\"submission.csv\")\n",
    "# np.savetxt(\"submission.csv\", np.array(csv), delimiter=\",\", header=\"id,destination\")\n",
    "\n",
    "# np.array(csv)"
   ]
  },
  {
   "cell_type": "code",
   "execution_count": null,
   "metadata": {},
   "outputs": [],
   "source": []
  }
 ],
 "metadata": {
  "kernelspec": {
   "display_name": "Python 3",
   "language": "python",
   "name": "python3"
  },
  "language_info": {
   "codemirror_mode": {
    "name": "ipython",
    "version": 3
   },
   "file_extension": ".py",
   "mimetype": "text/x-python",
   "name": "python",
   "nbconvert_exporter": "python",
   "pygments_lexer": "ipython3",
   "version": "3.6.4"
  }
 },
 "nbformat": 4,
 "nbformat_minor": 2
}
