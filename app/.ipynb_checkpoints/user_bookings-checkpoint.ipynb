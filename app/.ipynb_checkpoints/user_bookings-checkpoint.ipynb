{
 "cells": [
  {
   "cell_type": "code",
   "execution_count": 1,
   "metadata": {},
   "outputs": [],
   "source": [
    "import tensorflow as tf\n",
    "import numpy as np\n",
    "import matplotlib.pyplot as plt\n",
    "import pandas as pd"
   ]
  },
  {
   "cell_type": "code",
   "execution_count": 2,
   "metadata": {},
   "outputs": [],
   "source": [
    "COUNTRIES_FILE_PATH = \"data/countries.csv\"\n",
    "SESSIONS_FILE_PATH = \"data/sessions.csv\"\n",
    "TRAIN_USERS_PATH = \"data/train_users_2.csv\"\n",
    "AGE_BUCKET_PATH = \"data/age_gender_bkts.csv\"\n",
    "SESSION_PATH = \"data/sessions.csv\""
   ]
  },
  {
   "cell_type": "markdown",
   "metadata": {},
   "source": [
    "### Loading the data"
   ]
  },
  {
   "cell_type": "code",
   "execution_count": 174,
   "metadata": {},
   "outputs": [
    {
     "name": "stdout",
     "output_type": "stream",
     "text": [
      "Index(['id', 'gender', 'age', 'language', 'affiliate_provider', 'signup_app',\n",
      "       'first_device_type', 'first_browser'],\n",
      "      dtype='object')\n",
      "Index(['country_destination', 'lat_destination', 'lng_destination',\n",
      "       'distance_km', 'destination_km2', 'destination_language ',\n",
      "       'language_levenshtein_distance'],\n",
      "      dtype='object')\n",
      "Index(['age_bucket', 'country_destination', 'gender',\n",
      "       'population_in_thousands', 'year'],\n",
      "      dtype='object')\n"
     ]
    }
   ],
   "source": [
    "train_users = pd.read_csv(TRAIN_USERS_PATH)\n",
    "countries = pd.read_csv(COUNTRIES_FILE_PATH)\n",
    "age_buckets = pd.read_csv(AGE_BUCKET_PATH)\n",
    "sessions = pd.read_csv(SESSION_PATH)\n",
    "\n",
    "unique_session_ids = sessions['user_id'].unique()\n",
    "\n",
    "# Group session data\n",
    "sessions = sessions.groupby('user_id')\n",
    "\n",
    "unique_actions = sessions['action_detail'].nunique()\n",
    "total_elapsed = sessions['secs_elapsed'].sum()\n",
    "# convert to series for faster indexing\n",
    "total_elapsed = pd.Series(data=total_elapsed.values.flatten(), index=total_elapsed.index)\n",
    "\n",
    "# Drop columns we don't need\n",
    "train_users = train_users.drop(['date_account_created', 'timestamp_first_active', 'date_first_booking',\n",
    "                 'signup_flow', 'signup_method', 'affiliate_channel',\n",
    "                 'first_affiliate_tracked'], axis=1)\n",
    "\n",
    "features = train_users.columns[0:-1]\n",
    "\n",
    "# Let's see what our columns are\n",
    "\n",
    "print(features)\n",
    "print(countries.columns)\n",
    "print(age_buckets.columns)"
   ]
  },
  {
   "cell_type": "markdown",
   "metadata": {},
   "source": [
    "### Filtering data we aren't going to use"
   ]
  },
  {
   "cell_type": "code",
   "execution_count": 175,
   "metadata": {},
   "outputs": [],
   "source": [
    "# only get the users where we have their session information\n",
    "user_ids = train_users['id']\n",
    "train_users = train_users[user_ids.isin(unique_session_ids)]"
   ]
  },
  {
   "cell_type": "markdown",
   "metadata": {},
   "source": [
    "### Loading Session Data For Users"
   ]
  },
  {
   "cell_type": "code",
   "execution_count": 184,
   "metadata": {},
   "outputs": [
    {
     "data": {
      "text/plain": [
       "array([[9.000000e+00, 3.427529e+06],\n",
       "       [8.000000e+00, 2.078420e+05],\n",
       "       [8.000000e+00, 1.135444e+06],\n",
       "       ...,\n",
       "       [1.000000e+01, 3.429820e+05],\n",
       "       [8.000000e+00, 3.416090e+05],\n",
       "       [1.200000e+01, 2.759210e+06]])"
      ]
     },
     "execution_count": 184,
     "metadata": {},
     "output_type": "execute_result"
    }
   ],
   "source": [
    "def get_session_params(users):\n",
    "    user_matrix = users.as_matrix()\n",
    "    user_id_index = users.columns.get_loc('id')\n",
    "    \n",
    "    session_params = np.zeros((users.shape[0], 2))\n",
    "    \n",
    "    for i, user in enumerate(user_matrix):\n",
    "        actions = unique_actions.get(user[user_id_index])\n",
    "        total = total_elapsed.get(user[user_id_index])\n",
    "        session_params[i] = [actions, total]\n",
    "    \n",
    "    return session_params"
   ]
  },
  {
   "cell_type": "markdown",
   "metadata": {},
   "source": [
    "### Loading target country statistics and age bucket data"
   ]
  },
  {
   "cell_type": "code",
   "execution_count": 630,
   "metadata": {},
   "outputs": [],
   "source": [
    "# country_params = [country for country in train_users['country_destination']]\n",
    "# country_params = map(lambda country: country == countries['country_destination'], train_users['country_destination'])\n",
    "\n",
    "def get_country_params(users):\n",
    "    destinations = countries['country_destination']\n",
    "    country_params = []\n",
    "\n",
    "    for country in users['country_destination']:\n",
    "        params = countries[country == destinations]\n",
    "        cols = params.columns\n",
    "        vals = params.values\n",
    "        if len(vals) is 0:\n",
    "            vals = np.zeros((1, len(cols)), dtype=object)\n",
    "\n",
    "        country_params.append(dict(zip(cols, vals)))\n",
    "\n",
    "    country_params = pd.DataFrame(country_params)\n",
    "    \n",
    "    return country_params"
   ]
  },
  {
   "cell_type": "code",
   "execution_count": 631,
   "metadata": {},
   "outputs": [],
   "source": [
    "def get_age_bucket_params(users):\n",
    "    bucket_params = np.zeros((users.shape[0], 1))\n",
    "\n",
    "    age_index = users.columns.get_loc('age')\n",
    "    gender_index = users.columns.get_loc('gender')\n",
    "\n",
    "    def _str_age_to_tuple(age_str):\n",
    "        age_range = str.split(age_str.strip(\"+\"), \"-\")\n",
    "        if len(age_range) == 1:\n",
    "            return (int(age_range[0]),)\n",
    "        return (int(age_range[0]), int(age_range[1]))\n",
    "    \n",
    "    def _in_age_range(age_range, age):\n",
    "        if len(age_range) is 1:\n",
    "            return age >= age_range[0]\n",
    "        \n",
    "        return age > age_range[0] and age < age_range[1]\n",
    "    \n",
    "    def _index_for_age(age):\n",
    "        return list(map(lambda age_range: _in_age_range(age_range, age), bucket))\n",
    "    \n",
    "    def _try_convert(num):\n",
    "        try:\n",
    "            return int(num)\n",
    "        except ValueError:\n",
    "            return 0\n",
    "        \n",
    "    bucket_matrix = age_buckets.as_matrix()\n",
    "    \n",
    "    for i,user in enumerate(users.as_matrix()):\n",
    "        user_destination = user[-1]\n",
    "        user_gender = user[gender_index].lower()\n",
    "        user_age = _try_convert(user[age_index])\n",
    "        \n",
    "        params_for_country = list(filter(lambda row: row[1] == user_destination, bucket_matrix))\n",
    "\n",
    "        bucket_for_gender = list(filter(lambda row: _in_age_range(_str_age_to_tuple(row[0]), user_age), params_for_country))\n",
    "\n",
    "        param = list(filter(lambda row: row[2] == user_gender, bucket_for_gender))\n",
    "        \n",
    "        if len(param) is 0:\n",
    "            continue\n",
    "        \n",
    "        bucket_params[i] = param[0][-2]\n",
    "        \n",
    "    return pd.DataFrame(bucket_params, columns=[age_buckets.columns[-2]])"
   ]
  },
  {
   "cell_type": "markdown",
   "metadata": {},
   "source": [
    "### Getting insights on the data"
   ]
  },
  {
   "cell_type": "code",
   "execution_count": 632,
   "metadata": {},
   "outputs": [
    {
     "name": "stdout",
     "output_type": "stream",
     "text": [
      "Description for: id\n",
      "count         213451\n",
      "unique        213451\n",
      "top       hg2hcba77i\n",
      "freq               1\n",
      "Name: id, dtype: object\n",
      "\n",
      "\n",
      "\n",
      "Description for: gender\n",
      "count        213451\n",
      "unique            4\n",
      "top       -unknown-\n",
      "freq          95688\n",
      "Name: gender, dtype: object\n",
      "\n",
      "\n",
      "\n",
      "Description for: age\n",
      "count    125461.000000\n",
      "mean         49.668335\n",
      "std         155.666612\n",
      "min           1.000000\n",
      "25%          28.000000\n",
      "50%          34.000000\n",
      "75%          43.000000\n",
      "max        2014.000000\n",
      "Name: age, dtype: float64\n",
      "\n",
      "\n",
      "\n",
      "Description for: language\n",
      "count     213451\n",
      "unique        25\n",
      "top           en\n",
      "freq      206314\n",
      "Name: language, dtype: object\n",
      "\n",
      "\n",
      "\n",
      "Description for: affiliate_provider\n",
      "count     213451\n",
      "unique        18\n",
      "top       direct\n",
      "freq      137426\n",
      "Name: affiliate_provider, dtype: object\n",
      "\n",
      "\n",
      "\n",
      "Description for: signup_app\n",
      "count     213451\n",
      "unique         4\n",
      "top          Web\n",
      "freq      182717\n",
      "Name: signup_app, dtype: object\n",
      "\n",
      "\n",
      "\n",
      "Description for: first_device_type\n",
      "count          213451\n",
      "unique              9\n",
      "top       Mac Desktop\n",
      "freq            89600\n",
      "Name: first_device_type, dtype: object\n",
      "\n",
      "\n",
      "\n",
      "Description for: first_browser\n",
      "count     213451\n",
      "unique        52\n",
      "top       Chrome\n",
      "freq       63845\n",
      "Name: first_browser, dtype: object\n",
      "\n",
      "\n",
      "\n"
     ]
    }
   ],
   "source": [
    "for feature in features:\n",
    "    print(\"Description for: \" + feature)\n",
    "    print(train_users[feature].describe())\n",
    "    print(\"\\n\\n\")"
   ]
  },
  {
   "cell_type": "markdown",
   "metadata": {},
   "source": [
    "### Visualizing the data"
   ]
  },
  {
   "cell_type": "code",
   "execution_count": 633,
   "metadata": {},
   "outputs": [
    {
     "data": {
      "image/png": "[encoded data removed]",
      "text/plain": [
       "<matplotlib.figure.Figure at 0x147254c18>"
      ]
     },
     "metadata": {},
     "output_type": "display_data"
    }
   ],
   "source": [
    "def plot_user_range(users):\n",
    "    plt.plot(users['country_destination'], users['age'], 'ro', markersize=.5)\n",
    "    plt.ylabel('Age')\n",
    "    plt.xlabel('Destination')\n",
    "    \n",
    "plot_user_range(train_users)"
   ]
  },
  {
   "cell_type": "code",
   "execution_count": 634,
   "metadata": {},
   "outputs": [
    {
     "data": {
      "image/png": "[encoded data removed]",
      "text/plain": [
       "<matplotlib.figure.Figure at 0x12a7da908>"
      ]
     },
     "metadata": {},
     "output_type": "display_data"
    }
   ],
   "source": [
    "def plot_destination_dist(users):\n",
    "    value_counts = train_users['country_destination'].value_counts()\n",
    "    width = 0.7\n",
    "    indicies = value_counts.axes[0]\n",
    "    country_counts = value_counts.values\n",
    "\n",
    "#     ax.set_yscale('log')\n",
    "    plt.bar(indicies, country_counts, width)\n",
    "#     plt.yscale('log')\n",
    "    plt.ylabel('Frequency')\n",
    "    plt.xlabel('Language')\n",
    "\n",
    "plot_destination_dist(train_users)"
   ]
  },
  {
   "cell_type": "markdown",
   "metadata": {},
   "source": [
    "### Insights\n",
    "\n",
    "\n",
    "The data clearly shows there's some skewed data in the age column that may effect our results."
   ]
  },
  {
   "cell_type": "code",
   "execution_count": 635,
   "metadata": {},
   "outputs": [
    {
     "data": {
      "text/plain": [
       "Text(0.5,0,'Language')"
      ]
     },
     "execution_count": 635,
     "metadata": {},
     "output_type": "execute_result"
    },
    {
     "data": {
      "image/png": "[encoded data removed]",
      "text/plain": [
       "<matplotlib.figure.Figure at 0x12b833400>"
      ]
     },
     "metadata": {},
     "output_type": "display_data"
    }
   ],
   "source": [
    "value_counts = train_users['language'].value_counts()\n",
    "width = 0.7\n",
    "indicies = value_counts.axes[0]\n",
    "country_counts = value_counts.values\n",
    "\n",
    "# plt.set_yscale('log')\n",
    "plt.bar(indicies, country_counts, width)\n",
    "plt.yscale('log')\n",
    "plt.ylabel('Frequency')\n",
    "plt.xlabel('Language')"
   ]
  },
  {
   "cell_type": "markdown",
   "metadata": {},
   "source": [
    "### Cleaning Age"
   ]
  },
  {
   "cell_type": "code",
   "execution_count": 636,
   "metadata": {},
   "outputs": [],
   "source": [
    "train_users = train_users[(train_users['age'] > 16) & (train_users['age'] <= 95)]"
   ]
  },
  {
   "cell_type": "markdown",
   "metadata": {},
   "source": [
    "### Plot After:"
   ]
  },
  {
   "cell_type": "code",
   "execution_count": 637,
   "metadata": {},
   "outputs": [
    {
     "data": {
      "image/png": "[encoded data removed]",
      "text/plain": [
       "<matplotlib.figure.Figure at 0x1298ecac8>"
      ]
     },
     "metadata": {},
     "output_type": "display_data"
    }
   ],
   "source": [
    "plot_user_range(train_users)"
   ]
  },
  {
   "cell_type": "markdown",
   "metadata": {},
   "source": [
    "### Putting the data together"
   ]
  },
  {
   "cell_type": "code",
   "execution_count": 638,
   "metadata": {},
   "outputs": [],
   "source": [
    "bucket_params = get_age_bucket_params(train_users)"
   ]
  },
  {
   "cell_type": "code",
   "execution_count": 639,
   "metadata": {},
   "outputs": [],
   "source": [
    "country_params = get_country_params(train_users)"
   ]
  },
  {
   "cell_type": "code",
   "execution_count": 640,
   "metadata": {},
   "outputs": [],
   "source": [
    "params = train_users.append(country_params).append(bucket_params)"
   ]
  },
  {
   "cell_type": "code",
   "execution_count": 641,
   "metadata": {},
   "outputs": [
    {
     "name": "stdout",
     "output_type": "stream",
     "text": [
      "Index(['affiliate_provider', 'age', 'country_destination', 'first_browser',\n",
      "       'first_device_type', 'gender', 'id', 'language',\n",
      "       'population_in_thousands', 'signup_app'],\n",
      "      dtype='object')\n"
     ]
    }
   ],
   "source": [
    "print(params.columns)"
   ]
  },
  {
   "cell_type": "code",
   "execution_count": 642,
   "metadata": {},
   "outputs": [
    {
     "name": "stdout",
     "output_type": "stream",
     "text": [
      "       affiliate_provider   age country_destination  first_browser  \\\n",
      "1                  google  38.0                 NDF         Chrome   \n",
      "2                  direct  56.0                  US             IE   \n",
      "3                  direct  42.0               other        Firefox   \n",
      "4                  direct  41.0                  US         Chrome   \n",
      "6              craigslist  46.0                  US         Safari   \n",
      "7                  direct  47.0                  US         Safari   \n",
      "8              craigslist  50.0                  US         Safari   \n",
      "9              craigslist  46.0                  US        Firefox   \n",
      "10             craigslist  36.0                  US        Firefox   \n",
      "11             craigslist  47.0                 NDF      -unknown-   \n",
      "13             craigslist  37.0                 NDF        Firefox   \n",
      "14             craigslist  36.0                 NDF  Mobile Safari   \n",
      "15                 direct  33.0                  CA         Chrome   \n",
      "17             craigslist  31.0                  US      -unknown-   \n",
      "19                 direct  29.0                  FR         Chrome   \n",
      "21                 direct  30.0                  US         Chrome   \n",
      "22                 google  40.0                  US      -unknown-   \n",
      "24                 google  40.0                 NDF        Firefox   \n",
      "25             craigslist  26.0                  FR         Chrome   \n",
      "27             craigslist  32.0                  US         Chrome   \n",
      "28                 direct  35.0                  FR      -unknown-   \n",
      "29                 direct  37.0                  US      -unknown-   \n",
      "30             craigslist  42.0                  FR        Firefox   \n",
      "31                 direct  31.0                 NDF      -unknown-   \n",
      "32                 google  31.0                 NDF      -unknown-   \n",
      "33             craigslist  29.0                 NDF      -unknown-   \n",
      "34                 direct  59.0                 NDF         Chrome   \n",
      "35                 google  49.0                 NDF      -unknown-   \n",
      "36                 direct  31.0                  US         Safari   \n",
      "37             craigslist  30.0                 NDF         Chrome   \n",
      "...                   ...   ...                 ...            ...   \n",
      "122902                NaN   NaN                 NaN            NaN   \n",
      "122903                NaN   NaN                 NaN            NaN   \n",
      "122904                NaN   NaN                 NaN            NaN   \n",
      "122905                NaN   NaN                 NaN            NaN   \n",
      "122906                NaN   NaN                 NaN            NaN   \n",
      "122907                NaN   NaN                 NaN            NaN   \n",
      "122908                NaN   NaN                 NaN            NaN   \n",
      "122909                NaN   NaN                 NaN            NaN   \n",
      "122910                NaN   NaN                 NaN            NaN   \n",
      "122911                NaN   NaN                 NaN            NaN   \n",
      "122912                NaN   NaN                 NaN            NaN   \n",
      "122913                NaN   NaN                 NaN            NaN   \n",
      "122914                NaN   NaN                 NaN            NaN   \n",
      "122915                NaN   NaN                 NaN            NaN   \n",
      "122916                NaN   NaN                 NaN            NaN   \n",
      "122917                NaN   NaN                 NaN            NaN   \n",
      "122918                NaN   NaN                 NaN            NaN   \n",
      "122919                NaN   NaN                 NaN            NaN   \n",
      "122920                NaN   NaN                 NaN            NaN   \n",
      "122921                NaN   NaN                 NaN            NaN   \n",
      "122922                NaN   NaN                 NaN            NaN   \n",
      "122923                NaN   NaN                 NaN            NaN   \n",
      "122924                NaN   NaN                 NaN            NaN   \n",
      "122925                NaN   NaN                 NaN            NaN   \n",
      "122926                NaN   NaN                 NaN            NaN   \n",
      "122927                NaN   NaN                 NaN            NaN   \n",
      "122928                NaN   NaN                 NaN            NaN   \n",
      "122929                NaN   NaN                 NaN            NaN   \n",
      "122930                NaN   NaN                 NaN            NaN   \n",
      "122931                NaN   NaN                 NaN            NaN   \n",
      "\n",
      "       first_device_type     gender          id language  \\\n",
      "1            Mac Desktop       MALE  820tgsjxq7       en   \n",
      "2        Windows Desktop     FEMALE  4ft3gnwmtx       en   \n",
      "3            Mac Desktop     FEMALE  bjjt8pjhuk       en   \n",
      "4            Mac Desktop  -unknown-  87mebub9p4       en   \n",
      "6            Mac Desktop     FEMALE  lsw9q7uk0j       en   \n",
      "7            Mac Desktop     FEMALE  0d01nltbrs       en   \n",
      "8            Mac Desktop     FEMALE  a1vcnhxeij       en   \n",
      "9            Mac Desktop  -unknown-  6uh8zyj2gn       en   \n",
      "10           Mac Desktop     FEMALE  yuuqmid2rp       en   \n",
      "11                iPhone     FEMALE  om1ss59ys8       en   \n",
      "13           Mac Desktop     FEMALE  dy3rgx56cu       en   \n",
      "14                iPhone     FEMALE  ju3h98ch3w       en   \n",
      "15       Windows Desktop     FEMALE  v4d5rl22px       en   \n",
      "17         Other/Unknown  -unknown-  frhre329au       en   \n",
      "19           Mac Desktop     FEMALE  gdka1q5ktd       en   \n",
      "21           Mac Desktop       MALE  qsibmuz9sx       en   \n",
      "22                iPhone  -unknown-  80f7dwscrn       en   \n",
      "24           Mac Desktop     FEMALE  7i49vnuav6       en   \n",
      "25           Mac Desktop     FEMALE  al8bcetz0g       en   \n",
      "27       Desktop (Other)     FEMALE  hfrl5gle36       en   \n",
      "28         Other/Unknown  -unknown-  tp6x3md0n4       en   \n",
      "29        Android Tablet  -unknown-  hql77nu2lk       en   \n",
      "30           Mac Desktop  -unknown-  cheova4spt       en   \n",
      "31         Other/Unknown       MALE  pggg2sj27u       en   \n",
      "32         Other/Unknown  -unknown-  mo2v5h3nti       en   \n",
      "33         Other/Unknown       MALE  qthj88nnc7       en   \n",
      "34       Windows Desktop       MALE  x9gnxoun57       en   \n",
      "35         Other/Unknown  -unknown-  ugy4obax11       en   \n",
      "36           Mac Desktop     FEMALE  7my0vrljxc       en   \n",
      "37       Windows Desktop       MALE  ul0b29nhr6       en   \n",
      "...                  ...        ...         ...      ...   \n",
      "122902               NaN        NaN         NaN      NaN   \n",
      "122903               NaN        NaN         NaN      NaN   \n",
      "122904               NaN        NaN         NaN      NaN   \n",
      "122905               NaN        NaN         NaN      NaN   \n",
      "122906               NaN        NaN         NaN      NaN   \n",
      "122907               NaN        NaN         NaN      NaN   \n",
      "122908               NaN        NaN         NaN      NaN   \n",
      "122909               NaN        NaN         NaN      NaN   \n",
      "122910               NaN        NaN         NaN      NaN   \n",
      "122911               NaN        NaN         NaN      NaN   \n",
      "122912               NaN        NaN         NaN      NaN   \n",
      "122913               NaN        NaN         NaN      NaN   \n",
      "122914               NaN        NaN         NaN      NaN   \n",
      "122915               NaN        NaN         NaN      NaN   \n",
      "122916               NaN        NaN         NaN      NaN   \n",
      "122917               NaN        NaN         NaN      NaN   \n",
      "122918               NaN        NaN         NaN      NaN   \n",
      "122919               NaN        NaN         NaN      NaN   \n",
      "122920               NaN        NaN         NaN      NaN   \n",
      "122921               NaN        NaN         NaN      NaN   \n",
      "122922               NaN        NaN         NaN      NaN   \n",
      "122923               NaN        NaN         NaN      NaN   \n",
      "122924               NaN        NaN         NaN      NaN   \n",
      "122925               NaN        NaN         NaN      NaN   \n",
      "122926               NaN        NaN         NaN      NaN   \n",
      "122927               NaN        NaN         NaN      NaN   \n",
      "122928               NaN        NaN         NaN      NaN   \n",
      "122929               NaN        NaN         NaN      NaN   \n",
      "122930               NaN        NaN         NaN      NaN   \n",
      "122931               NaN        NaN         NaN      NaN   \n",
      "\n",
      "        population_in_thousands signup_app  \n",
      "1                           NaN        Web  \n",
      "2                           NaN        Web  \n",
      "3                           NaN        Web  \n",
      "4                           NaN        Web  \n",
      "6                           NaN        Web  \n",
      "7                           NaN        Web  \n",
      "8                           NaN        Web  \n",
      "9                           NaN        Web  \n",
      "10                          NaN        Web  \n",
      "11                          NaN        Web  \n",
      "13                          NaN        Web  \n",
      "14                          NaN        Web  \n",
      "15                          NaN        Web  \n",
      "17                          NaN        Web  \n",
      "19                          NaN        Web  \n",
      "21                          NaN        Web  \n",
      "22                          NaN        Web  \n",
      "24                          NaN        Web  \n",
      "25                          NaN        Web  \n",
      "27                          NaN        Web  \n",
      "28                          NaN        Web  \n",
      "29                          NaN        Web  \n",
      "30                          NaN        Web  \n",
      "31                          NaN        Web  \n",
      "32                          NaN        Web  \n",
      "33                          NaN        Web  \n",
      "34                          NaN        Web  \n",
      "35                          NaN        Web  \n",
      "36                          NaN        Web  \n",
      "37                          NaN        Web  \n",
      "...                         ...        ...  \n",
      "122902                      0.0        NaN  \n",
      "122903                      0.0        NaN  \n",
      "122904                      0.0        NaN  \n",
      "122905                      0.0        NaN  \n",
      "122906                      0.0        NaN  \n",
      "122907                      0.0        NaN  \n",
      "122908                      0.0        NaN  \n",
      "122909                  10984.0        NaN  \n",
      "122910                      0.0        NaN  \n",
      "122911                      0.0        NaN  \n",
      "122912                      0.0        NaN  \n",
      "122913                   1106.0        NaN  \n",
      "122914                      0.0        NaN  \n",
      "122915                  11011.0        NaN  \n",
      "122916                      0.0        NaN  \n",
      "122917                      0.0        NaN  \n",
      "122918                      0.0        NaN  \n",
      "122919                      0.0        NaN  \n",
      "122920                      0.0        NaN  \n",
      "122921                      0.0        NaN  \n",
      "122922                      0.0        NaN  \n",
      "122923                      0.0        NaN  \n",
      "122924                      0.0        NaN  \n",
      "122925                  10159.0        NaN  \n",
      "122926                      0.0        NaN  \n",
      "122927                      0.0        NaN  \n",
      "122928                  10352.0        NaN  \n",
      "122929                  11094.0        NaN  \n",
      "122930                      0.0        NaN  \n",
      "122931                      0.0        NaN  \n",
      "\n",
      "[368796 rows x 10 columns]\n"
     ]
    }
   ],
   "source": [
    "print(params)"
   ]
  },
  {
   "cell_type": "markdown",
   "metadata": {},
   "source": []
  }
 ],
 "metadata": {
  "kernelspec": {
   "display_name": "Python 3",
   "language": "python",
   "name": "python3"
  },
  "language_info": {
   "codemirror_mode": {
    "name": "ipython",
    "version": 3
   },
   "file_extension": ".py",
   "mimetype": "text/x-python",
   "name": "python",
   "nbconvert_exporter": "python",
   "pygments_lexer": "ipython3",
   "version": "3.6.4"
  }
 },
 "nbformat": 4,
 "nbformat_minor": 2
}
